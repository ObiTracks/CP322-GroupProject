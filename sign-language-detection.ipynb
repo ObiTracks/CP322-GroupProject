{
 "cells": [
  {
   "cell_type": "markdown",
   "metadata": {},
   "source": [
    "# CP322 Project: Sign Language to Code"
   ]
  },
  {
   "cell_type": "code",
   "execution_count": 1,
   "metadata": {},
   "outputs": [],
   "source": [
    "import cv2\n",
    "import os\n",
    "import time\n",
    "import uuid"
   ]
  },
  {
   "cell_type": "code",
   "execution_count": 2,
   "metadata": {},
   "outputs": [
    {
     "name": "stdout",
     "output_type": "stream",
     "text": [
      "mkdir: ../SignLanguageToCodeDetection/Tensorflow/workspace/images: No such file or directory\n"
     ]
    }
   ],
   "source": [
    "\n",
    "!mkdir {'../SignLanguageToCodeDetection/Tensorflow/workspace/images/collectedimages'}\n",
    "IMAGES_PATH = '../SignLanguageToCodeDetection/Tensorflow/workspace/images/collectedimages/'\n",
    "labels = ['for', 'while', 'if', 'else']\n",
    "n_imgs = 5"
   ]
  },
  {
   "cell_type": "code",
   "execution_count": 3,
   "metadata": {},
   "outputs": [
    {
     "name": "stdout",
     "output_type": "stream",
     "text": [
      "mkdir: ../SignLanguageToCodeDetection/Tensorflow/workspace/images/collectedimages: No such file or directory\n",
      "Capturing Label: for  Image: 0\n",
      "Capturing Label: for  Image: 1\n",
      "Capturing Label: for  Image: 2\n",
      "Capturing Label: for  Image: 3\n",
      "Capturing Label: for  Image: 4\n",
      "mkdir: ../SignLanguageToCodeDetection/Tensorflow/workspace/images/collectedimages: No such file or directory\n"
     ]
    },
    {
     "ename": "KeyboardInterrupt",
     "evalue": "",
     "output_type": "error",
     "traceback": [
      "\u001b[0;31m---------------------------------------------------------------------------\u001b[0m",
      "\u001b[0;31mKeyboardInterrupt\u001b[0m                         Traceback (most recent call last)",
      "Cell \u001b[0;32mIn [3], line 3\u001b[0m\n\u001b[1;32m      1\u001b[0m \u001b[39mfor\u001b[39;00m label \u001b[39min\u001b[39;00m labels:\n\u001b[1;32m      2\u001b[0m     get_ipython()\u001b[39m.\u001b[39msystem(\u001b[39m'\u001b[39m\u001b[39mmkdir \u001b[39m\u001b[39m{\u001b[39m\u001b[39mIMAGES_PATH + label}\u001b[39m\u001b[39m'\u001b[39m)\n\u001b[0;32m----> 3\u001b[0m     capture \u001b[39m=\u001b[39m cv2\u001b[39m.\u001b[39mVideoCapture(\u001b[39m0\u001b[39m)\n\u001b[1;32m      5\u001b[0m     \u001b[39mfor\u001b[39;00m i \u001b[39min\u001b[39;00m \u001b[39mrange\u001b[39m(n_imgs):\n\u001b[1;32m      6\u001b[0m         \u001b[39mprint\u001b[39m(\u001b[39m\"\u001b[39m\u001b[39mCapturing Label: \u001b[39m\u001b[39m\"\u001b[39m \u001b[39m+\u001b[39m label, \u001b[39m\"\u001b[39m\u001b[39m Image: \u001b[39m\u001b[39m\"\u001b[39m \u001b[39m+\u001b[39m \u001b[39mstr\u001b[39m(i))\n",
      "\u001b[0;31mKeyboardInterrupt\u001b[0m: "
     ]
    }
   ],
   "source": [
    "for label in labels:\n",
    "    !mkdir {IMAGES_PATH + label}\n",
    "    capture = cv2.VideoCapture(0)\n",
    "\n",
    "    for i in range(n_imgs):\n",
    "        print(\"Capturing Label: \" + label, \" Image: \" + str(i))\n",
    "        ret, frame = capture.read()\n",
    "        img_path = os.path.join(IMAGES_PATH, label, label + '-' + '{}.jpg'.format(str(uuid.uuid1())))\n",
    "        cv2.imwrite(img_path, frame)\n",
    "        cv2.imshow('frame', frame)\n",
    "        time.sleep(2)\n",
    "        # if cv2.waitKey(1) & 0xFF == ord('q'):\n",
    "        #     break\n",
    "\n",
    "    capture.release()"
   ]
  }
 ],
 "metadata": {
  "kernelspec": {
   "display_name": "Python 3.9.13 64-bit",
   "language": "python",
   "name": "python3"
  },
  "language_info": {
   "codemirror_mode": {
    "name": "ipython",
    "version": 3
   },
   "file_extension": ".py",
   "mimetype": "text/x-python",
   "name": "python",
   "nbconvert_exporter": "python",
   "pygments_lexer": "ipython3",
   "version": "3.9.13"
  },
  "orig_nbformat": 4,
  "vscode": {
   "interpreter": {
    "hash": "b0fa6594d8f4cbf19f97940f81e996739fb7646882a419484c72d19e05852a7e"
   }
  }
 },
 "nbformat": 4,
 "nbformat_minor": 2
}
