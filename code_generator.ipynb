{
 "cells": [
  {
   "cell_type": "code",
   "execution_count": 41,
   "metadata": {},
   "outputs": [],
   "source": [
    "sign_mappings = {\n",
    "    0 : \"\"\"\n",
    "for i in range(5):\n",
    "    print(\"Hello World\")\n",
    "\"\"\",\n",
    "    1 : \"\"\"\n",
    "i = 0\n",
    "while i < 5:\n",
    "    print(\"The Sun is Shining\")\n",
    "    i += 1\"\"\",\n",
    "    2 : \"\"\"\n",
    "if (i == 0):\n",
    "    print(\"The World is at Balance\")\n",
    "\"\"\",\n",
    "    3 : \"\"\"\n",
    "elif (i == 1):  \n",
    "    print(\"The World is out of Balance\")\n",
    "\"\"\",\n",
    "    4 : \"\"\"\n",
    "else:\n",
    "    print(\"The World is Back in Balance\")\n",
    "\"\"\",\n",
    "    5 : \"\"\"\n",
    "def some_function():\n",
    "    x = (\"Hello World\")\n",
    "    return x\n",
    "\n",
    "print(some_function())\"\"\",\n",
    "}"
   ]
  },
  {
   "cell_type": "code",
   "execution_count": 42,
   "metadata": {},
   "outputs": [],
   "source": [
    "def get_sign_mapping(sign: str):\n",
    "    x = sign_mappings[sign]\n",
    "    print(x)\n",
    "    return x\n",
    "\n",
    "def write_code_to_file(code: str):\n",
    "    try:\n",
    "        with open('output.py', 'w+') as f:\n",
    "            f.write(code)\n",
    "            print('Code written to output.py')\n",
    "    except Exception as e:\n",
    "        print(\"Failed to write code to file: Error {}\".format(e))\n",
    "    \n",
    "    return \n",
    "\n",
    "def main(sign_codes):\n",
    "    # Get whichever ASL sign has being displayed on the screen - will be a number from 0-7\n",
    "    code_output = \"\"\n",
    "    for sign_code in sign_codes:\n",
    "        sign = get_sign_mapping(sign_code)\n",
    "        code_output += sign\n",
    "        \n",
    "    write_code_to_file(code_output)"
   ]
  },
  {
   "cell_type": "code",
   "execution_count": 43,
   "metadata": {},
   "outputs": [
    {
     "name": "stdout",
     "output_type": "stream",
     "text": [
      "\n",
      "for i in range(5):\n",
      "    print(\"Hello World\")\n",
      "\n",
      "\n",
      "i = 0\n",
      "while i < 5:\n",
      "    print(\"The Sun is Shining\")\n",
      "    i += 1\n",
      "\n",
      "if (i == 0):\n",
      "    print(\"The World is at Balance\")\n",
      "\n",
      "\n",
      "elif (i == 1):  \n",
      "    print(\"The World is out of Balance\")\n",
      "\n",
      "\n",
      "else:\n",
      "    print(\"The World is Back in Balance\")\n",
      "\n",
      "\n",
      "def some_function():\n",
      "    x = (\"Hello World\")\n",
      "    return x\n",
      "\n",
      "print(some_function())\n",
      "Code written to output.py\n"
     ]
    }
   ],
   "source": [
    "sign_codes = [0, 1, 2, 3, 4, 5, ]\n",
    "main(sign_codes)"
   ]
  }
 ],
 "metadata": {
  "kernelspec": {
   "display_name": "Python 3.9.13 64-bit",
   "language": "python",
   "name": "python3"
  },
  "language_info": {
   "codemirror_mode": {
    "name": "ipython",
    "version": 3
   },
   "file_extension": ".py",
   "mimetype": "text/x-python",
   "name": "python",
   "nbconvert_exporter": "python",
   "pygments_lexer": "ipython3",
   "version": "3.9.13"
  },
  "orig_nbformat": 4,
  "vscode": {
   "interpreter": {
    "hash": "b0fa6594d8f4cbf19f97940f81e996739fb7646882a419484c72d19e05852a7e"
   }
  }
 },
 "nbformat": 4,
 "nbformat_minor": 2
}
